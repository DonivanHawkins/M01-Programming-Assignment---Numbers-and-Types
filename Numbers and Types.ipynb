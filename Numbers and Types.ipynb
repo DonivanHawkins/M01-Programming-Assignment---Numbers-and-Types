{
 "cells": [
  {
   "cell_type": "code",
   "execution_count": 1,
   "metadata": {},
   "outputs": [
    {
     "name": "stdout",
     "output_type": "stream",
     "text": [
      "3600\n",
      "86400\n",
      "24.0\n",
      "24\n"
     ]
    }
   ],
   "source": [
    "#There are 3600 seconds in one hour\n",
    "\n",
    "seconds_per_hour = 60 * 60\n",
    "print(int(seconds_per_hour))\n",
    "\n",
    "#There are 86,400 seconds in one day\n",
    "\n",
    "seconds_per_day = 24 * seconds_per_hour\n",
    "print(int(seconds_per_day))\n",
    "\n",
    "print(seconds_per_day / seconds_per_hour)\n",
    "print(seconds_per_day // seconds_per_hour)\n",
    "\n",
    "#Yes these numbers do equal each other excluding the added .0"
   ]
  }
 ],
 "metadata": {
  "kernelspec": {
   "display_name": "my_venv",
   "language": "python",
   "name": "python3"
  },
  "language_info": {
   "codemirror_mode": {
    "name": "ipython",
    "version": 3
   },
   "file_extension": ".py",
   "mimetype": "text/x-python",
   "name": "python",
   "nbconvert_exporter": "python",
   "pygments_lexer": "ipython3",
   "version": "3.11.9"
  }
 },
 "nbformat": 4,
 "nbformat_minor": 5
}
